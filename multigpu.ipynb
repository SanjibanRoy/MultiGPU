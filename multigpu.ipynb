{
  "nbformat": 4,
  "nbformat_minor": 0,
  "metadata": {
    "colab": {
      "name": "Untitled3.ipynb",
      "provenance": [],
      "authorship_tag": "ABX9TyPtYX0woO3d9f6fqsya+0Qf",
      "include_colab_link": true
    },
    "kernelspec": {
      "name": "python3",
      "display_name": "Python 3"
    }
  },
  "cells": [
    {
      "cell_type": "markdown",
      "metadata": {
        "id": "view-in-github",
        "colab_type": "text"
      },
      "source": [
        "<a href=\"https://colab.research.google.com/github/SanjibanRoy/MultiGPU/blob/master/multigpu.ipynb\" target=\"_parent\"><img src=\"https://colab.research.google.com/assets/colab-badge.svg\" alt=\"Open In Colab\"/></a>"
      ]
    },
    {
      "cell_type": "code",
      "metadata": {
        "id": "G4oBf6kv5aP3",
        "colab_type": "code",
        "colab": {}
      },
      "source": [
        "import tensorflow as tf"
      ],
      "execution_count": 0,
      "outputs": []
    },
    {
      "cell_type": "code",
      "metadata": {
        "id": "DYmQnh616C1q",
        "colab_type": "code",
        "colab": {}
      },
      "source": [
        "c = []\n",
        "for i, d in enumerate(['/gpu:0', '/gpu:1', '/gpu:2']):\n",
        "    with tf.device(d):\n",
        "        a = tf.get_variable(f\"a_{i}\", [2, 3], initializer=tf.random_uniform_initializer(-1, 1))\n",
        "        b = tf.get_variable(f\"b_{i}\", [3, 2], initializer=tf.random_uniform_initializer(-1, 1))\n",
        "        c.append(tf.matmul(a, b))"
      ],
      "execution_count": 0,
      "outputs": []
    },
    {
      "cell_type": "code",
      "metadata": {
        "id": "runCoOyj6JD-",
        "colab_type": "code",
        "colab": {}
      },
      "source": [
        "with tf.device('/cpu:0'):\n",
        "    sum = tf.add_n(c)"
      ],
      "execution_count": 0,
      "outputs": []
    },
    {
      "cell_type": "code",
      "metadata": {
        "id": "8tLId6Vk6uFh",
        "colab_type": "code",
        "colab": {}
      },
      "source": [
        "sess = tf.Session(config=tf.ConfigProto(log_device_placement=True)"
      ],
      "execution_count": 0,
      "outputs": []
    },
    {
      "cell_type": "code",
      "metadata": {
        "id": "Xe6VzVaGBjpL",
        "colab_type": "code",
        "colab": {}
      },
      "source": [
        "init = tf.global_variables_initializer()\n",
        "sess.run(init)"
      ],
      "execution_count": 0,
      "outputs": []
    },
    {
      "cell_type": "code",
      "metadata": {
        "id": "P869-5d2Bktc",
        "colab_type": "code",
        "colab": {}
      },
      "source": [
        "print(sess.run(sum))"
      ],
      "execution_count": 0,
      "outputs": []
    }
  ]
}