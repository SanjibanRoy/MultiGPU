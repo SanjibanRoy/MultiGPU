{
  "nbformat": 4,
  "nbformat_minor": 0,
  "metadata": {
    "colab": {
      "name": "Untitled3.ipynb",
      "provenance": [],
      "authorship_tag": "ABX9TyN0nxmHyDkhaBTwWUw6oVEW",
      "include_colab_link": true
    },
    "kernelspec": {
      "name": "python3",
      "display_name": "Python 3"
    }
  },
  "cells": [
    {
      "cell_type": "markdown",
      "metadata": {
        "id": "view-in-github",
        "colab_type": "text"
      },
      "source": [
        "<a href=\"https://colab.research.google.com/github/SanjibanRoy/MultiGPU/blob/master/Data_para.ipynb\" target=\"_parent\"><img src=\"https://colab.research.google.com/assets/colab-badge.svg\" alt=\"Open In Colab\"/></a>"
      ]
    },
    {
      "cell_type": "code",
      "metadata": {
        "id": "G4oBf6kv5aP3",
        "colab_type": "code",
        "colab": {}
      },
      "source": [
        "import tensorflow as tf"
      ],
      "execution_count": 0,
      "outputs": []
    },
    {
      "cell_type": "code",
      "metadata": {
        "id": "DYmQnh616C1q",
        "colab_type": "code",
        "colab": {}
      },
      "source": [
        "c = []\n",
        "a = tf.get_variable(f\"a\", [2, 2], initializer=tf.random_uniform_initializer(-1, 1))\n",
        "b = tf.get_variable(f\"b\", [2, 2], initializer=tf.random_uniform_initializer(-1, 1))"
      ],
      "execution_count": 0,
      "outputs": []
    },
    {
      "cell_type": "code",
      "metadata": {
        "id": "runCoOyj6JD-",
        "colab_type": "code",
        "colab": {}
      },
      "source": [
        "# Multiple towers\n",
        "for i, d in enumerate(['/gpu:0', '/gpu:1']):\n",
        "    with tf.device(d):\n",
        "        c.append(tf.matmul(a[i], b[i]))   # Tower i is responsible for batch data i.\n",
        "\n",
        "with tf.device('/cpu:0'):\n",
        "    sum = tf.add_n(c)"
      ],
      "execution_count": 0,
      "outputs": []
    },
    {
      "cell_type": "code",
      "metadata": {
        "id": "8tLId6Vk6uFh",
        "colab_type": "code",
        "colab": {}
      },
      "source": [
        "sess = tf.Session(config=tf.ConfigProto(log_device_placement=True, allow_soft_placement=True))\n",
        "\n",
        "init = tf.global_variables_initializer()\n",
        "sess.run(init)\n",
        "\n",
        "print(sess.run(sum))"
      ],
      "execution_count": 0,
      "outputs": []
    },
    {
      "cell_type": "code",
      "metadata": {
        "id": "SDiFDWXvKL6M",
        "colab_type": "code",
        "colab": {}
      },
      "source": [
        ""
      ],
      "execution_count": 0,
      "outputs": []
    }
  ]
}