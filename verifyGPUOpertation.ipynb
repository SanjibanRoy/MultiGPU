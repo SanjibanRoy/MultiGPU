{
  "nbformat": 4,
  "nbformat_minor": 0,
  "metadata": {
    "colab": {
      "name": "Untitled3.ipynb",
      "provenance": [],
      "authorship_tag": "ABX9TyMqvgJSCpfc3fQ3yhW79p7d",
      "include_colab_link": true
    },
    "kernelspec": {
      "name": "python3",
      "display_name": "Python 3"
    }
  },
  "cells": [
    {
      "cell_type": "markdown",
      "metadata": {
        "id": "view-in-github",
        "colab_type": "text"
      },
      "source": [
        "<a href=\"https://colab.research.google.com/github/SanjibanRoy/MultiGPU/blob/master/verifyGPUOpertation.ipynb\" target=\"_parent\"><img src=\"https://colab.research.google.com/assets/colab-badge.svg\" alt=\"Open In Colab\"/></a>"
      ]
    },
    {
      "cell_type": "code",
      "metadata": {
        "id": "G4oBf6kv5aP3",
        "colab_type": "code",
        "colab": {}
      },
      "source": [
        "import tensorflow as tf\n"
      ],
      "execution_count": 0,
      "outputs": []
    },
    {
      "cell_type": "code",
      "metadata": {
        "id": "DYmQnh616C1q",
        "colab_type": "code",
        "colab": {}
      },
      "source": [
        "# Construct 2 op nodes (m1, m2) representing 2 matrix.\n",
        "m1 = tf.constant([[3, 5]])\n",
        "m2 = tf.constant([[2],[4]])"
      ],
      "execution_count": 0,
      "outputs": []
    },
    {
      "cell_type": "code",
      "metadata": {
        "id": "runCoOyj6JD-",
        "colab_type": "code",
        "colab": {}
      },
      "source": [
        "product = tf.matmul(m1, m2) "
      ],
      "execution_count": 0,
      "outputs": []
    },
    {
      "cell_type": "code",
      "metadata": {
        "id": "8tLId6Vk6uFh",
        "colab_type": "code",
        "colab": {}
      },
      "source": [
        "sess = tf.Session(config=tf.ConfigProto(log_device_placement=True))\n",
        "print(sess.run(product))\n",
        "\n",
        "sess.close()"
      ],
      "execution_count": 0,
      "outputs": []
    }
  ]
}